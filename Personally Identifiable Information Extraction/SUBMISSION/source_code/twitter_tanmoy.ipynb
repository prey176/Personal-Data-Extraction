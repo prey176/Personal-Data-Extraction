{
 "cells": [
  {
   "cell_type": "markdown",
   "metadata": {},
   "source": [
    "# Twitter Authentication"
   ]
  },
  {
   "cell_type": "code",
   "execution_count": 1,
   "metadata": {},
   "outputs": [
    {
     "name": "stdout",
     "output_type": "stream",
     "text": [
      "Authentication successfull!!! :D\n"
     ]
    }
   ],
   "source": [
    "import tweepy\n",
    "\n",
    "#Consumer Key (API Key), Consumer Secret (API Secret)\n",
    "auth = tweepy.OAuthHandler('s9iqHQMCnqbRSTYLZijznltjj', \n",
    "                           'edpnKGn7l90SPKoFBc5eiBi2kEjb5sFe5CfH2vZ4O51g1lvfXw')\n",
    "# Access Token, Access Token Secret\n",
    "auth.set_access_token('914187849875914752-DEpIlQagvnjUdJ8vvKwe2IxF8luSUab', \n",
    "                      '8NyTquzkP9i7XX2dSUDPrO6u157i5FMNK7JwsibtyOCFS')\n",
    "\n",
    "api = tweepy.API(auth)\n",
    "if (not api):\n",
    "    print(\"Authentication failed :(\")\n",
    "else:\n",
    "    print(\"Authentication successfull!!! :D\")"
   ]
  },
  {
   "cell_type": "code",
   "execution_count": 4,
   "metadata": {},
   "outputs": [
    {
     "name": "stdout",
     "output_type": "stream",
     "text": [
      "609\n"
     ]
    }
   ],
   "source": [
    "import datetime\n",
    "\n",
    "tweets = []\n",
    "\n",
    "for tweet in tweepy.Cursor(api.user_timeline,screen_name=\"Tanmoy_Chak\").items():\n",
    "    tweets.append(tweet)\n",
    "print(len(tweets))"
   ]
  },
  {
   "cell_type": "markdown",
   "metadata": {},
   "source": [
    "# Favourite Count"
   ]
  },
  {
   "cell_type": "code",
   "execution_count": null,
   "metadata": {},
   "outputs": [],
   "source": [
    "engagement = {}\n",
    "\n",
    "import datetime\n",
    "import time\n",
    "\n",
    "endDate = datetime.datetime.today()\n",
    "\n",
    "curDate = tweets[-1].created_at\n",
    "increase = datetime.timedelta(days=180)\n",
    "COUNT_EVERY_30_DAYS = []\n",
    "while (curDate < endDate) :\n",
    "    nextDate = curDate + increase\n",
    "    likes = 0\n",
    "    for tweet in tweets :\n",
    "        if tweet.created_at < nextDate and tweet.created_at > curDate:\n",
    "            try:\n",
    "                likes += tweet.favorite_count\n",
    "                    \n",
    "            except:\n",
    "                pass\n",
    "    \n",
    "    arr = str(curDate).split(\" \")\n",
    "    date = arr[0]\n",
    "    \n",
    "    engagement[date] = likes\n",
    "                \n",
    "    curDate = nextDate\n",
    "    \n",
    "\n",
    "print(tweets[-1].favorite_count)"
   ]
  },
  {
   "cell_type": "code",
   "execution_count": null,
   "metadata": {},
   "outputs": [],
   "source": [
    "print(engagement)"
   ]
  },
  {
   "cell_type": "markdown",
   "metadata": {},
   "source": [
    "# Graph - Favourite Count"
   ]
  },
  {
   "cell_type": "code",
   "execution_count": null,
   "metadata": {},
   "outputs": [],
   "source": [
    "import plotly.graph_objects as go\n",
    "\n",
    "count = []\n",
    "dates = []\n",
    "\n",
    "for key in sorted(engagement.keys()):\n",
    "    dates.append(key)\n",
    "    count.append(engagement[key])\n",
    "    \n",
    "fig = go.Figure()\n",
    "\n",
    "fig.add_trace(go.Scatter(\n",
    "    x=dates, y=count,\n",
    "    mode='lines+markers',marker_size=10)\n",
    ")\n",
    "fig.update_layout(title=\"Favorite Count in span of 6 months\",xaxis_title = \"Start Date\", yaxis_title = \"count\")\n",
    "fig.update_xaxes(tickangle=45)\n",
    "fig.show()\n",
    "\n",
    "print(dates)\n"
   ]
  },
  {
   "cell_type": "markdown",
   "metadata": {},
   "source": [
    "# User Mentions"
   ]
  },
  {
   "cell_type": "code",
   "execution_count": 7,
   "metadata": {},
   "outputs": [],
   "source": [
    "engagement_mentions = {}\n",
    "\n",
    "import datetime\n",
    "import time\n",
    "\n",
    "endDate = datetime.datetime.today()\n",
    "\n",
    "curDate = tweets[-1].created_at\n",
    "increase = datetime.timedelta(days=180)\n",
    "COUNT_EVERY_30_DAYS = []\n",
    "while (curDate < endDate) :\n",
    "    nextDate = curDate + increase\n",
    "    users = []\n",
    "    for tweet in tweets :\n",
    "        if tweet.created_at < nextDate and tweet.created_at > curDate:\n",
    "            try:\n",
    "                for user in tweet.entities[\"user_mentions\"]:\n",
    "                    users.append(user[\"screen_name\"])\n",
    "                    \n",
    "            except:\n",
    "                pass\n",
    "    \n",
    "    arr = str(curDate).split(\" \")\n",
    "    date = arr[0]\n",
    "    \n",
    "    engagement_mentions[date] = users\n",
    "                \n",
    "    curDate = nextDate"
   ]
  },
  {
   "cell_type": "code",
   "execution_count": 8,
   "metadata": {},
   "outputs": [
    {
     "name": "stdout",
     "output_type": "stream",
     "text": [
      "{'2015-05-14': ['nholzschuch', '365news1', 'nakhon224', 'SouthamptonCC', 'cadoganhall', 'SkyNews', 'estesiar', 'usunvie', 'Research_Voice', 'htrafficsource'], '2015-11-10': ['cnerg', 'gangulyniloy', 'cnerg', 'Tanmoy_Chak', 'gangulyniloy', 'cnerg', 'cnerg', 'WebScience16', 'naacl2016', 'icwsm', 'satarupag', 'Flipkart', 'cnerg', 'cnerg', 'krishnamrith12', 'naacl', 'naacl2016', 'naacl2016'], '2016-05-08': ['ecir2017', 'andrehigher', 'iamsrk', 'IIITDelhi', 'htTweets', 'NobelPrize', 'NHKWORLD_News', 'RishirajSahaRoy', 'RishirajSahaRoy', 'JolleyWithAnE', 'vssubrah', 'cnerg', 'Tanmoy_Chak', 'gangulyniloy', 'cnerg', 'Tanmoy_Chak', 'vssubrah', 'NewsHour', 'srijankedia', 'vssubrah', 'umiacs', 'Tanmoy_Chak', 'vssubrah', 'vssubrah', 'Tanmoy_Chak', 'cnerg', 'cnerg', 'Tanmoy_Chak', 'vssubrah', 'ASonam', 'ml_india', 'Tanmoy_Chak', 'IITKgp', 'ml_india', 'Tanmoy_Chak', 'RishirajSahaRoy', 'cnerg', 'ml_india', 'Tanmoy_Chak', 'kdd_news', 'varaggarwal', 'umdcs', 'vssubrah', 'HISTORY', 'gangulyniloy', 'cnerg', 'cnerg', 'cnerg', 'Tanmoy_Chak', 'gangulyniloy', 'cnerg'], '2016-11-04': ['meslim3', 'minu_pr', 'elenadata', 'Miles_Brundage', 'vardi', 'RishirajSahaRoy', 'vardi', 'QuantaMagazine', 'barabasi', 'StephenPiment', 'RishirajSahaRoy', 'vssubrah', 'SentiMetrix', 'Harvard', 'awmannes', 'vssubrah', 'NetSciX2017', 'NetSciX2017'], '2017-05-03': ['vssubrah', 'IEEE', 'vssubrah', 'IEEE', 'vssubrah', 'cnerg', 'Tanmoy_Chak', 'IIITDelhi', 'Tanmoy_Chak', 'johncarlosbaez', 'codscomad', 'sandeepkshukla', 'DheerajSanghi', 'IIITDelhi', 'Tanmoy_Chak', 'IEEE', 'IIITDelhi', 'Tanmoy_Chak', 'net_science', 'IIITDelhi', 'cnerg', 'ponguru'], '2017-10-30': ['mraghava', 'mraghava', 'Tanmoy_Chak', 'TheWebConf', 'swadhin_pradhan', 'cnerg', 'divy93t', 'GoogleResearch', 'GoogleResearch', 'GoogleIndia', 'divy93t', 'GoogleResearch', 'IIITDelhi', 'divy93t', 'GoogleResearch', 'IIITDelhi', 'Srishti_Gupta14', 'GoogleResearch', 'IIITDelhi', 'DreamerPratikC', 'DreamerPratikC', 'DreamerPratikC', 'DreamerPratikC', 'informor', 'infoxiao', 'TheWebConf', 'swadhin_pradhan', 'swadhin_pradhan', 'swadhin_pradhan', 'ACMMobiCom', 'acm_s3', 'acm_s3', 'Tanmoy_Chak', 'IIITDelhi', 'ACMMobiCom', 'swadhin_pradhan', 'swadhin_pradhan', 'TheWebConf', 'DreamerPratikC', 'gangulyniloy', 'dgleich', 'PurdueCS', 'IIITDelhi', 'PurdueCS', 'dgleich', 'dgleich', 'IIITDelhi', 'Tanmoy_Chak', 'cnerg', 'Srishti_Gupta14', 'OyeKuldeep', 'DAAD_Germany', 'mpi_sws', 'kgummadi', 'RishirajSahaRoy', 'autreche', 'IIITDelhi', 'Tanmoy_Chak', 'DAAD_Germany', 'mpi_sws', 'kgummadi', 'IIITDelhi', 'UKIERIdotORG', 'IndiaDST', 'cardiffuni', 'pbFeed', 'IIITDelhi', 'IndiaDST', 'SRoyLee', 'IIITDelhi', 'Tanmoy_Chak', 'SRoyLee', 'RishirajSahaRoy', 'IIITDelhi', 'AAMASOrg', 'cnerg', 'ACMHT', 'RishirajSahaRoy', 'ilyasut', 'IIITDelhi', 'Tanmoy_Chak', 'clarivate', 'chrmanning', 'tim_kraska', 'alexbeutel', 'edchi', 'JeffDean', 'arxiv_org', 'arxiv_org', 'Miles_Brundage', 'ponguru', 'IIITDelhi'], '2018-04-28': ['webofscience', 'clarivate', 'manasgaur90', 'just_achetan', 'BrihiJ', 'hridaydutta123', 'WSDMSocial', 'manasgaur90', 'RishirajSahaRoy', 'RishirajSahaRoy', 'just_achetan', 'BrihiJ', 'hridaydutta123', 'WSDMSocial', 'krishnamrith12', 'just_achetan', 'BrihiJ', 'hridaydutta123', 'WSDMSocial', 'krishnamrith12', 'swadhin_pradhan', 'just_achetan', 'BrihiJ', 'hridaydutta123', 'WSDMSocial', 'swadhin_pradhan', 'srijankedia', 'just_achetan', 'BrihiJ', 'hridaydutta123', 'WSDMSocial', 'srijankedia', 'pravesh', 'just_achetan', 'BrihiJ', 'hridaydutta123', 'WSDMSocial', 'pravesh', 'just_achetan', 'BrihiJ', 'hridaydutta123', 'WSDMSocial', 'pravesh', 'codscomad', 'barabasi', 'LavinaJainLJ', 'lcs2iiitd', 'seanjtaylor', 'PySamarth', 'Facebook', 'WhatsApp', 'nickwalker_us', 'RealAAAI', 'mnwsth', 'ACMMobiCom', 'ICPEconf', 'sigarch', 'usenix', 'sigarch', 'iitgn', 'nipun_batra', 'vssubrah', 'Tanmoy_Chak', 'lcs2iiitd', 'iisfofficial', 'mnwsth', 'vinayaksn', 'vinayaksn', 'mnwsth', 'vinayaksn', 'mnwsth', 'vinayaksn', 'sandeepkshukla', 'sharmadrishti', 'IIITDelhi', 'DheerajSanghi', 'IIITDelhi', 'DheerajSanghi', 'itstrider', 'GoogleIndia', 'Google', 'lcs2iiitd', 'IIITDelhi', 'divy93t', 'RajanAnandan', 'umiacs', 'umdcs', 'srijankedia', 'hemant_pt', 'swadhin_pradhan', '__biswa', 'GoogleIndia', 'Google', 'lcs2iiitd', 'IIITDelhi', 'divy93t', 'RajanAnandan', 'umiacs', 'umdcs', 'GoogleIndia', 'pravesh', 'pravesh', 'kunal_banerjee_', 'lcs2iiitd', 'CChelmis', 'JurgenPfeffer', 'icwsm', 'JurgenPfeffer', 'icwsm', '__biswa', 'swadhin_pradhan', 'swarnendubiswas', 'sandeepkshukla', 'lcs2iiitd', 'lcs2iiitd', 'hridaydutta123', 'BrihiJ', 'Jubilee34', 'IndiaRxiv', 'BrihiJ', 'clausatz', 'swadhin_pradhan', 'hikeapp', 'Facebook', 'lcs2iiitd', 'swadhin_pradhan', 'hikeapp', 'Facebook', 'lcs2iiitd', 'hemant_pt', 'BrihiJ', 'just_achetan', 'swadhin_pradhan', 'greatbong', 'swadhin_pradhan', 'swadhin_pradhan', 'greatbong', 'hemant_pt', 'hridaydutta123', 'hemant_pt', 'dreamgirlhema', 'vssubrah', 'dartmouth', 'RajanAnandan', 'radamihalcea', 'RajanAnandan', 'Google', 'IIITDelhi', 'stevebach', 'gianluca_string', 'coling2018', 'michigan_AI', 'radamihalcea', 'gianluca_string', 'coling2018', 'michigan_AI', 'radamihalcea', 'swadhin_pradhan', 'ACMMobiCom', 'sandip2201', 'sandeepkshukla', 'swadhin_pradhan', 'sandip2201', 'ACMMobiCom', 'swadhin_pradhan', 'sandeepkshukla', 'ACMMobiCom', 'ladamic', '__biswa', 'dhiraj_d_bhatia', 'nipun_batra', 'pgbovine', 'vinayaksn', 'DheerajSanghi', 'ponguru', 'mnwsth', 'neeldhara', 'sandeepkshukla', 'mayank_iitgn', 'nipun_batra', 'pgbovine', 'vinayaksn', 'DheerajSanghi', 'ponguru', 'mnwsth', 'neeldhara', 'sandeepkshukla', 'IIITDelhi', 'Tanmoy_Chak', 'dseabraoliveira', 'vssubrah', 'RishirajSahaRoy', 'DreamerPratikC', 'IIITDelhi', 'clarivate', 'RishirajSahaRoy', 'OyeKuldeep', 'IIITDelhi', 'SDA_Research', 'OyeKuldeep', 'IIITDelhi', 'mnwsth', 'NandoDF', 'rijitK', 'MorganClaypool', 'rijitK', 'MorganClaypool', 'arxiv_org', 'munmun10', 'kous2v', 'priyanka_iitg', 'LauraKaltwasser', 'michalkosinski', 'swadhin_pradhan', 'vardi', 'thenextweb', 'stanfordnlp', 'krismicinski', 'raiisonai', 'ARIJIT__SINGH', 'TheArijitSingh', 'ArijitSingh_', 'vardi', 'munmun10', 'munmun10', 'DheerajSanghi', 'webofscience', 'clarivate', 'RishirajSahaRoy', 'iamsrk', 'iamsrk', 'webofscience', 'clarivate', 'Rajivdst', 'Twitter', 'arxiv_org', 'RishirajSahaRoy', 'dlowd', 'kr_t', 'munmun10', 'RishirajSahaRoy', 'swadhin_pradhan', 'ACMSIGMOBILE', 'ACMMobiCom', 'rao2z', 'ijcai16', 'vinayaksn', 'kyleatprinceton', 'badityap', 'VT_DAC', 'badityap', 'yogarshi', 'autreche', 'autreche', 'DheerajSanghi', 'RishirajSahaRoy', 'IndiaDST', 'mrcpangallo', 'ypsYash', 'IIITDelhi', 'swadhin_pradhan', 'Tanmoy_Chak', 'swadhin_pradhan', 'Stanford', 'MIT', 'swadhin_pradhan', 'Stanford', 'MIT', 'IIITDelhi', 'Tanmoy_Chak', 'AndreiCimpian', 'joboaler', 'adg_5', 'serbonline', 'IndiaDST', 'Rajivdst', 'PMOIndia', 'IIITDelhi', 'IIITDelhi', 'Tanmoy_Chak', 'swadhin_pradhan', 'gangulyniloy', 'AbhijnanC', 'cnerg'], '2018-10-25': ['ElsevierConnect', 'emilymbender', 'emilymbender', 'vinayaksn', 'willenck', 'NoseongPark', 'GeorgeMasonU', 'umdcs', 'sigir2019', 'ani_nenkova', 'emilymbender', 'yoavgo', 'ryandcotterell', 'ACL2019_Italy', 'Philipp_Mayr', 'debjani_ghosh_', 'nasscom', 'debjani_ghosh_', 'Ashutos61', 'IndiaDST', 'RenuSwarup', 'DBTIndia', 'amitabhk87', 'NITIAayog', 'annalkorhonen', 'ACL2019_Italy', 'IIITDelhi', 'gvrkiran', 'haldaume3', 'tangjiliang', 'danaikoutra', 'danaikoutra', 'tangjiliang', 'danaikoutra', 'tangjiliang', 'joyopal', 'IIITDelhi', 'januverma', 'IIITDelhi', 'hikeapp', 'AnalyticsVidhya', 'emilianoucl', 'TTOConference', 'yangzhangalmo', 'ffmagicbean', 'IllinoisCS', 'Chengkai_Li', 'kdd_news', 'Chengkai_Li', 'kdd_news', 'Chengkai_Li', 'kdd_news', 'januverma', 'hikeapp', 'AnalyticsVidhya', 'IIITDelhi', 'hikeapp', 'Tanmoy_Chak', 'januverma', 'Tanmoy_Chak', 'hikeapp', 'AnalyticsVidhya', 'imsrk', 'SRKUniverse', 'SRKFC1', 'SRK_FC', 'WeSupport_SRK', 'dheryta28', 'vinayaksn', 'RoadationRahul', 'ComputerSociety', 'turhanb', 'DrPaulRalph', 'IIITDelhi', 'MANIKANTROY', 'AnalyticsVidhya', 'IIITDelhi', 'AnalyticsVidhya', 'IIITDelhi', 'IndiaRxiv', 'IndiaRxiv', 'johnpdickerson', 'BrihiJ', 'Snap', 'BrihiJ', 'IndiaRxiv', 'OAIndia', 'openscience_in', 'sbhatia_', 'JCDLConf', 'navketan_mishra', 'gansbags', 'ACL2019_Italy', 'kdd_news', 'yangzhangalmo', 'CISPA', 'yangzhangalmo', 'umdcs', 'johnpdickerson', 'NSF', 'johnpdickerson', 'mayank_iitgn', 'lcs2iiitd', 'MANIKANTROY', 'lcs2iiitd', 'rao2z', 'rijitK', 'OpenAI', 'hemanklamba', 'GraceHuiYang', 'GraceHuiYang', 'lcs2iiitd', 'vinayaksn', 'IndiaDST', 'serbonline', 'PrinSciAdvGoI', 'just_achetan', 'lcs2iiitd', 'Tanmoy_Chak', 'hridaydutta123', 'github', 'BrihiJ', 'just_achetan', 'hridaydutta123', 'Tanmoy_Chak', 'BrihiJ', 'just_achetan', 'WSDMSocial', 'BrihiJ', 'just_achetan', 'hemant_pt', 'onurvarol', 'jure', 'mohitban47', 'alinev3010', 'mohitban47', 'alinev3010', 'kdd_news', 'mhrd_innovation', 'IIITDelhi', 'QUBelfast', 'NTUsg', 'just_achetan', 'devvarma', 'devvarma', 'MANIKANTROY', 'lcs2iiitd', 'Tanmoy_Chak', 'IIITDelhi', 'behmanush1', 'ponguru', 'Tanmoy_Chak', 'RahulAPanicker', 'lpuuniversity', 'IIITDelhi', 'MANIKANTROY', 'ponguru', 'sandeepkshukla', 'RahulAPanicker', 'TCS', 'avik_sarkar', 'hikeapp', 'monojitchou', 'avik_sarkar', 'NITIAayog', 'BrihiJ', 'devvarma', 'RahulAPanicker', 'kdd_news', 'RealAAAI', 'emilymbender', 'emilymbender', 'lcs2iiitd', 'IIITDelhi', 'RahulAPanicker', 'umiacs', 'UofMaryland', 'johnpdickerson', 'NSF', 'UMDscience', 'johnpdickerson', 'mai_elsherief', 'ShirinNilizadeh', 'TheWebConf', '9ytee', 'giovanni_vigna', 'cyber', 'stanfordnlp', 'hridaydutta123', 'hemant_pt', 'mnwsth', 'IndiaDST', 'PrinSciAdvGoI', 'mnwsth', 'IndiaDST', 'PrinSciAdvGoI', 'IIITDelhi', 'sciencetrend', 'jainprateek_', 'codscomad', 'sciencetrend', 'IIITDelhi', 'IIITDelhi', 'mnwsth', 'IndiaRxiv', 'aalokelab', 'IndiaRxiv', 'aalokelab', 'IndiaRxiv', 'hikeapp', 'codscomad', 'januverma', 'krishnaGummadi', 'codscomad', 'UTAustin', 'IIITDelhi', 'codscomad', 'monojitchou', 'codscomad', 'sourangshub', 'codscomad', 'gangulyniloy', 'MilindTambe_AI', 'CAIS_USC', 'WSDMSocial', 'WSDMSocial', 'rao2z', 'codscomad', 'MilindTambe_AI', 'CAIS_USC', 'MilindTambe_AI', 'codscomad', 'MilindTambe_AI', 'SMARTCnsvTools', 'CAIS_USC', 'MilindTambe_AI', 'codscomad', 'lcs2iiitd', 'lab_sengupta', 'nsp555', 'CIOL_NEWS', 'deviparikh', 'DhruvBatraDB', 'mnwsth', 'TCPD_Ashoka', 'AshokaUniv', 'mnwsth', 'TCPD_Ashoka', 'AshokaUniv', 'pravesh', '__biswa', 'mnwsth', 'nipun_batra', '__biswa', 'mnwsth', 'nipun_batra', '_biswa', 'jurafsky', 'stanfordnlp', 'pravesh', 'nipun_batra', 'pravesh', 'nipun_batra', 'pravesh', 'nipun_batra', 'pravesh', 'nipun_batra', 'pravesh', 'mnwsth', 'nipun_batra', 'pravesh', 'nipun_batra', 'nipun_batra', 'lcs2iiitd', 'laksvs', 'arkaitz', 'TheWebConf', 'lcs2iiitd', 'iiit_hyderabad', 'AshokaUniv', 'mnwsth', 'IIITGhy', 'iitgn', 'swadhin_pradhan', 'mayank_iitgn', '__biswa', 'nipun_batra', 'mnwsth', 'rao2z', 'umdcs', 'DelhiUniversity', 'lcs2iiitd', 'IIITDelhi', 'RakshakKumar', 'IndiaDST', 'hemant_pt', 'VolgenauSchool', 'ScharSchool', 'hemant_pt', 'lcs2iiitd', 'lcs2iiitd', 'DanielMRomero', 'lcs2iiitd', 'DanielMRomero', 'DanielMRomero', 'AFOSR', 'umsi', 'DanielMRomero', 'IIITDelhi', 'PrakashJavdekar', 'HRDMinistry', 'MayankVatsa3', 'IIITDelhi', 'lcs2iiitd', 'lcs2iiitd', 'pravesh', 'SiliconindiaMag', 'kdd_news', 'MANIKANTROY', 'kunal_banerjee_', 'IIITDelhi', 'lcs2iiitd', 'kunal_banerjee_', 'IIITDelhi', 'lcs2iiitd', 'gansbags', 'divy93t', 'gragtah', 'divy93t', 'gragtah', 'swadhin_pradhan', 'swadhin_pradhan', 'ScienceMagazine', 'Chemosym', 'nipun_batra', 'iitgn', 'seb_ruder', 'BasmaEAB', 'krishnamrith12', 'overleaf', 'sharelatex', 'Google', 'lcs2iiitd', 'Tavpritesh', 'cuttingforstone', 'EricTopol', 'atulbutte', 'drnigam', 'Tavpritesh', 'pravesh', 'RealAAAI', 'pravesh', 'swadhin_pradhan', 'RealAAAI', 'swadhin_pradhan', 'RealAAAI', 'overleaf', 'sharelatex', 'nipun_batra', 'iitgn', 'mstrohm', 'kylekloster', 'ravenben'], '2019-04-23': ['nehakumar', 'joyopal', 'joyopal', 'jainprateek_', 'amazon', 'IIITDelhi', '_shiivangii', 'dgleich', 'Viral_B_Shah', 'PurdueCS', 'JuliaLanguage', 'cikm2019', 'devon_hjelm', 'ankesh_anand', 'evanracah', 'sherjilozair', 'Cote_Marc', 'ankesh_anand', 'debjani_ghosh_', 'debjani_ghosh_', 'Sarthika15170', 'CIOL_NEWS', 'IIITDelhi', 'debjani_ghosh_', 'nasscom', 'lcs2iiitd', 'kd3423', 'Tanmoy_Chak', 'IIITDelhi', 'designatIIITD', 'TCS', 'IIITDelhi', 'vssubrah', 'HaipengChen2', 'NoseongPark', 'ruiliu310', 'vssubrah', 'Tavpritesh', 'IndiaRxiv', 'onurvarol', 'IndiaRxiv', 'OAIndia', 'OSFramework', 'IndiaRxiv', 'IJCAIconf', 'Sarthika15170', 'icdm2019', 'WiMLDS_Paris', 'bettymoreschini', 'lcs2iiitd', 'roshankar', 'Wipro', 'IIITB_official', 'ManishGuptaMG1', 'mnwsth', '_chandan_jha', 'IntelIndia', 'kalikabali', 'MSFTResearch', 'amt_shrma', 'swadhin_pradhan', 'munmun10', 'sigchi', 'Google', 'MSFTResearch', 'IIITDelhi', 'gtcomputing', 'swadhin_pradhan', 'munmun10', 'sigchi', 'Google', 'MSFTResearch', 'sigchi', 'munmun10', 'sigir2019', 'lcs2iiitd', 'mayank_iitgn', 'Google', 'Google', 'mnwsth', '__biswa', 'nipun_batra', 'neeldhara', 'mnwsth', '__biswa', 'mnwsth', 'ArchitChecker', 'nipun_batra', 'neeldhara', 'mnwsth', '__biswa', 'nipun_batra', 'neeldhara', 'IIITDelhi', 'mnwsth', '__biswa', 'nipun_batra', 'neeldhara', 'mnwsth', '__biswa', 'nipun_batra', 'neeldhara', 'mnwsth', 'mnwsth', '__biswa', 'nipun_batra', 'neeldhara', 'mnwsth', '__biswa', 'nipun_batra', 'neeldhara', 'aridongri', 'mnwsth', '__biswa', 'nipun_batra', 'neeldhara', 'mnwsth', '__biswa', 'nipun_batra', 'neeldhara', 'ArvindKejriwal', 'LtGovDelhi', 'DelhiPolice', 'reddit', 'IIITDelhi', 'swadhin_pradhan', 'RickeyPonting1', 'ArchitChecker', 'ArchitChecker', 'GReportIndia', 'brijeshrai', 'GReportIndia', 'IITGuwahati', 'iitbombay', 'scholii57548696', 'PMOIndia', 'narendramodi', 'pravesh', 'IndiaRxiv', 'icpph2019', 'IndiaRxiv', 'mnwsth', 'Sandeep_1966', 'IndiaDST', 'drharshvardhan', 'Ashutos61', 'serbonline', 'iHrithik', 'lcs2iiitd', 'IBMResearch', 'lcs2iiitd', 'BrihiJ', 'IBMResearch', 'WSDMSocial', 'ACM', 'GdasguptaB', 'saraswati1984', 'ibm_in', 'SameepMehta3', 'IBMResearch', 'learning_pt', 'HRDMinistry', 'serbonline', 'IndiaDST', 'srikanta', 'iitdelhi', 'IIITDelhi', 'SridharGutam', 'IndiaRxiv', 'OAIndia', 'IIITDelhi', 'mnwsth', 'muthukumarc87', 'conll2019', 'mnwsth', 'pravesh', 'mnwsth', 'tavoaguilar91', 'hridaydutta123', 'hemant_pt', 'EducationLanes', 'IIITDelhi', 'tech_mahindra', 'ACL2019_Italy', 'muthukumarc87', 'kdd_news', 'TheWebConf', 'ACL2019_Italy', 'NAACLHLT', 'kdd_news', 'TheWebConf', 'ACL2019_Italy', 'NAACLHLT', 'hemant_pt', 'SDhawan25', 'imVkohli', 'ImRo45', '_shiivangii', 'ibnesayeed', 'IIITDelhi', 'BreitingerC', 'JCDLConf', 'NAACLHLT', 'mayank_iitgn', 'iitgn', 'IITKgp', 'mayank_iitgn', 'JCDLConf', 'vssubrah', 'vechainofficial', 'ISTS_Dartmouth', 'IIITDelhi', 'IndiaRxiv', 'enago', 'EconomicTimes', 'sbhatia_', 'corneliacs', 'TheWebConf', 'TheWebConf', 'rao2z', 'codscomad', 'e4mtweets', 'lcs2iiitd', 'IIITDelhi', 'CamtheWicked', 'JCDLConf', 'IndiaRxiv', 'MamataOfficial', 'codscomad', 'IndiaRxiv', 'nresearchnews', 'eredmil1', 'PrincetonCS', 'PrincetonCITP', 'UofMaryland', 'umdcs', 'eredmil1', 'Srishti_Gupta14'], '2019-10-20': ['Amit_Goldenb', 'lcs2iiitd', 'ponguru', 'mraghava', 'lcs2iiitd', 'lcs2iiitd']}\n"
     ]
    }
   ],
   "source": [
    "print(engagement_mentions)"
   ]
  },
  {
   "cell_type": "markdown",
   "metadata": {},
   "source": [
    "# Graph - User Mentions"
   ]
  },
  {
   "cell_type": "code",
   "execution_count": null,
   "metadata": {},
   "outputs": [],
   "source": [
    "count = []\n",
    "dates = []\n",
    "\n",
    "for key in sorted(engagement_mentions.keys()):\n",
    "    dates.append(key)\n",
    "    count.append(len(engagement_mentions[key]))\n",
    "    \n",
    "fig = go.Figure(data=[go.Scatter(\n",
    "    x=dates, y=count,\n",
    "    mode='lines+markers',marker_size=10)\n",
    "])\n",
    "fig.update_layout(title=\"User Mention Count in span of 6 months\",xaxis_title = \"Start Date\", yaxis_title = \"count\")\n",
    "fig.update_xaxes(tickangle=45)\n",
    "fig.show()\n",
    "\n",
    "print(dates)"
   ]
  },
  {
   "cell_type": "markdown",
   "metadata": {},
   "source": [
    "# Jaccard Similarity - User Mentions"
   ]
  },
  {
   "cell_type": "code",
   "execution_count": null,
   "metadata": {},
   "outputs": [],
   "source": [
    "ind = 0\n",
    "dates = []\n",
    "jaccard_ratio = []\n",
    "\n",
    "for key in sorted(engagement_mentions.keys()):\n",
    "    if(ind==0):\n",
    "        prev = set(engagement_mentions[key])\n",
    "        \n",
    "    else:\n",
    "        if(ind>1):\n",
    "            prev = curr\n",
    "        curr = set(engagement_mentions[key])\n",
    "        dates.append(key)\n",
    "        jaccard_ratio.append(len(prev & curr)/len(prev | curr))\n",
    "    \n",
    "    ind+=1\n",
    "\n",
    "    \n",
    "fig = go.Figure(data=[go.Scatter(\n",
    "    x=dates, y=jaccard_ratio,\n",
    "    mode='lines+markers',marker_size=10)\n",
    "])\n",
    "fig.update_layout(title=\"Jaccard Similarity between User Mentions on tweets\",xaxis_title = \"Year\", yaxis_title = \"jaccard ratio\")\n",
    "fig.update_xaxes(tickangle=45)\n",
    "fig.show()  "
   ]
  },
  {
   "cell_type": "code",
   "execution_count": null,
   "metadata": {},
   "outputs": [],
   "source": [
    "for key in engagement_mentions:\n",
    "    print(key)\n",
    "    print(\", \".join(engagement_mentions[key]))\n",
    "    print()\n"
   ]
  },
  {
   "cell_type": "markdown",
   "metadata": {},
   "source": [
    "# Top 10 User Mentions"
   ]
  },
  {
   "cell_type": "code",
   "execution_count": null,
   "metadata": {},
   "outputs": [],
   "source": [
    "# Finding top 10 user mentions \n",
    "\n",
    "count = {}\n",
    "\n",
    "for key in engagement_mentions:\n",
    "    for user in engagement_mentions[key]:\n",
    "        if(user in count):\n",
    "            count[user]+=1\n",
    "        else:\n",
    "            count[user]=1\n",
    "\n",
    "print(sorted(count.items(), key = \n",
    "             lambda kv:(kv[1], kv[0]),reverse = True)) "
   ]
  },
  {
   "cell_type": "markdown",
   "metadata": {},
   "source": [
    "# Top Mentioned Users in span of 6 months"
   ]
  },
  {
   "cell_type": "code",
   "execution_count": 9,
   "metadata": {},
   "outputs": [
    {
     "name": "stdout",
     "output_type": "stream",
     "text": [
      "{'2015-05-14': 'nholzschuch', '2015-11-10': 'cnerg', '2016-05-08': 'cnerg', '2016-11-04': 'vardi', '2017-05-03': 'Tanmoy_Chak', '2017-10-30': 'IIITDelhi', '2018-04-28': 'swadhin_pradhan', '2018-10-25': 'IIITDelhi', '2019-04-23': 'mnwsth', '2019-10-20': 'lcs2iiitd'}\n"
     ]
    }
   ],
   "source": [
    "dict = {}\n",
    "\n",
    "for key in engagement_mentions:\n",
    "    counter = {}\n",
    "    for user in engagement_mentions[key]:\n",
    "        if(user not in counter):\n",
    "            counter[user]=1\n",
    "        else:\n",
    "            counter[user]+=1\n",
    "            \n",
    "    max = 0\n",
    "    final_user = \"\"\n",
    "    for user in counter:\n",
    "        if(counter[user] > max):\n",
    "            max = counter[user]\n",
    "            final_user = user\n",
    "            dict[key] = user\n",
    "            \n",
    "print(dict)"
   ]
  },
  {
   "cell_type": "markdown",
   "metadata": {},
   "source": [
    "# Profile Updates"
   ]
  },
  {
   "cell_type": "code",
   "execution_count": null,
   "metadata": {},
   "outputs": [],
   "source": [
    "updates = {}\n",
    "\n",
    "with open(\"./../database/Tanmoy_profileUpdate.txt\",'r') as file:\n",
    "    for line in file:\n",
    "        year = line.split(\",\")[0][-2:]\n",
    "        if(year in updates):\n",
    "            updates[year]+=1\n",
    "        else:\n",
    "            updates[year]=1\n",
    "            \n",
    "\n",
    "            \n",
    "fig = go.Figure(data=[go.Scatter(\n",
    "    x=list(updates.keys()), y=list(updates.values()),\n",
    "    mode='lines+markers',marker_size=10)\n",
    "])\n",
    "fig.update_layout(title=\"Year-Wise Updates\",xaxis_title = \"Year\", yaxis_title = \"Count\")\n",
    "fig.update_xaxes(tickangle=45)\n",
    "fig.show() "
   ]
  },
  {
   "cell_type": "code",
   "execution_count": null,
   "metadata": {},
   "outputs": [],
   "source": [
    "import tweepy\n",
    "import datetime\n",
    "import time"
   ]
  },
  {
   "cell_type": "code",
   "execution_count": null,
   "metadata": {},
   "outputs": [],
   "source": [
    "ACCESS_TOKEN =\"1008440742816067584-3qoAe6npYlB5KRNW4fnNmG6AjteqHP\"\n",
    "ACCESS_TOKEN_SECRET=\"NRBehYexj56v7HnMTIFrkxW7JlCkOpjMt2SQn0RSwTURI\"\n",
    "CONSUMER_KEY=\"vgr02kOoSOI1skzNZ9O8ENJQv\"\n",
    "CONSUMER_SECRET=\"V4F40uptgWfHdxVpPsWyvMukmSH3ydMSYtltEsj6BExBniJIP0\""
   ]
  },
  {
   "cell_type": "code",
   "execution_count": null,
   "metadata": {},
   "outputs": [],
   "source": [
    "auth = tweepy.OAuthHandler(CONSUMER_KEY, CONSUMER_SECRET)\n",
    "auth.set_access_token(ACCESS_TOKEN,ACCESS_TOKEN_SECRET)"
   ]
  },
  {
   "cell_type": "code",
   "execution_count": null,
   "metadata": {
    "scrolled": true
   },
   "outputs": [],
   "source": [
    "api = tweepy.API(auth)\n",
    "if (not api):\n",
    "    print(\"Authentication failed :(\")\n",
    "else:\n",
    "    print(\"Authentication successfull!!! :D\")\n",
    "\n",
    "try:\n",
    "    api.verify_credentials()\n",
    "except:\n",
    "    pass"
   ]
  },
  {
   "cell_type": "code",
   "execution_count": null,
   "metadata": {},
   "outputs": [],
   "source": [
    "user = '@tanmoy_chak'"
   ]
  },
  {
   "cell_type": "code",
   "execution_count": null,
   "metadata": {},
   "outputs": [],
   "source": [
    "import pickle, datetime\n",
    "tweets = []\n",
    "for tweet in tweepy.Cursor(api.user_timeline, id=user, tweet_mode='extended').items():\n",
    "    tweets.append(tweet)"
   ]
  },
  {
   "cell_type": "code",
   "execution_count": null,
   "metadata": {},
   "outputs": [],
   "source": [
    "# We dumped the retweets so that we don't have to run the api query again\n",
    "# And they are limited in a time window\n",
    "# So we commented the code for making the api queries, so that we could run the file multiple times\n",
    "# Without wasting time "
   ]
  },
  {
   "cell_type": "code",
   "execution_count": null,
   "metadata": {},
   "outputs": [],
   "source": [
    "# retweets = []\n",
    "# for a in tweets:\n",
    "#     if a.retweet_count == 0 :\n",
    "#         continue\n",
    "#     try :\n",
    "#         retweets.append(api.retweets(a.id))\n",
    "#     except:\n",
    "#         time.sleep(16*60)\n",
    "#         retweets.append(api.retweets(a.id))"
   ]
  },
  {
   "cell_type": "code",
   "execution_count": 12,
   "metadata": {},
   "outputs": [],
   "source": [
    "import pickle"
   ]
  },
  {
   "cell_type": "markdown",
   "metadata": {},
   "source": [
    "# Load Data"
   ]
  },
  {
   "cell_type": "code",
   "execution_count": 13,
   "metadata": {},
   "outputs": [],
   "source": [
    "def loadData():  \n",
    "    dbfile = open('../database/TANMOY_RETWEETS', 'rb')      \n",
    "    D = pickle.load(dbfile)\n",
    "    return D"
   ]
  },
  {
   "cell_type": "markdown",
   "metadata": {},
   "source": [
    "# Retweets Count"
   ]
  },
  {
   "cell_type": "code",
   "execution_count": 14,
   "metadata": {},
   "outputs": [
    {
     "name": "stdout",
     "output_type": "stream",
     "text": [
      "239\n"
     ]
    }
   ],
   "source": [
    "retweets = loadData()\n",
    "print(len(retweets))"
   ]
  },
  {
   "cell_type": "code",
   "execution_count": 18,
   "metadata": {},
   "outputs": [],
   "source": [
    "time_tweets = []\n",
    "for tweet in tweets :\n",
    "    if tweet.retweet_count == 0 :\n",
    "        continue\n",
    "    time_tweets.append(tweet.created_at)"
   ]
  },
  {
   "cell_type": "code",
   "execution_count": null,
   "metadata": {},
   "outputs": [],
   "source": [
    "print (len(time_tweets))"
   ]
  },
  {
   "cell_type": "code",
   "execution_count": null,
   "metadata": {},
   "outputs": [],
   "source": [
    "retweets[0][0].user.screen_name"
   ]
  },
  {
   "cell_type": "code",
   "execution_count": 16,
   "metadata": {},
   "outputs": [
    {
     "data": {
      "text/plain": [
       "'2015-05-14'"
      ]
     },
     "execution_count": 16,
     "metadata": {},
     "output_type": "execute_result"
    }
   ],
   "source": [
    "date_ = tweets[-1].created_at\n",
    "date_ = str(date_).split(' ')[0]\n",
    "date_"
   ]
  },
  {
   "cell_type": "code",
   "execution_count": 15,
   "metadata": {},
   "outputs": [],
   "source": [
    "import time\n",
    "import datetime"
   ]
  },
  {
   "cell_type": "markdown",
   "metadata": {},
   "source": [
    "# Retweeters Extraction"
   ]
  },
  {
   "cell_type": "code",
   "execution_count": 19,
   "metadata": {},
   "outputs": [],
   "source": [
    "curDate = tweets[-1].created_at\n",
    "endDate = tweets[0].created_at\n",
    "increase = datetime.timedelta(days=180)\n",
    "engagement = {}\n",
    "while (curDate <= endDate) :\n",
    "    nextDate = curDate + increase\n",
    "    names = []\n",
    "    for i in range (len(retweets)) :\n",
    "        if time_tweets[i] < nextDate and time_tweets[i] > curDate :\n",
    "            for j in retweets[i] :\n",
    "                names.append(j.user.screen_name)\n",
    "#     names = list(set(names))\n",
    "    date_ = str(curDate).split(' ')[0]\n",
    "    engagement[date_] = names \n",
    "    curDate = nextDate"
   ]
  },
  {
   "cell_type": "code",
   "execution_count": null,
   "metadata": {},
   "outputs": [],
   "source": [
    "for a in engagement :\n",
    "    print (a)\n",
    "    print(', '.join(engagement[a]))\n",
    "    print ()"
   ]
  },
  {
   "cell_type": "code",
   "execution_count": null,
   "metadata": {},
   "outputs": [],
   "source": [
    "import plotly.graph_objects as go"
   ]
  },
  {
   "cell_type": "code",
   "execution_count": null,
   "metadata": {},
   "outputs": [],
   "source": [
    "fig1 = go.Figure()"
   ]
  },
  {
   "cell_type": "code",
   "execution_count": null,
   "metadata": {},
   "outputs": [],
   "source": [
    "import numpy as np"
   ]
  },
  {
   "cell_type": "markdown",
   "metadata": {},
   "source": [
    "# Graph - Retweeters"
   ]
  },
  {
   "cell_type": "code",
   "execution_count": null,
   "metadata": {},
   "outputs": [],
   "source": [
    "arr1 = [a for a in engagement]\n",
    "arr2 = [len(engagement[a]) for a in engagement]\n",
    "fig1.add_trace(go.Scatter(x = arr1,y = arr2,mode='markers'))"
   ]
  },
  {
   "cell_type": "code",
   "execution_count": null,
   "metadata": {},
   "outputs": [],
   "source": [
    "fig1.update_layout(title = 'Number of Retweets per 6 Months', xaxis_title = 'Year', yaxis_title = 'Retweets Count')"
   ]
  },
  {
   "cell_type": "markdown",
   "metadata": {},
   "source": [
    "# Jaccard Similarity - Graph"
   ]
  },
  {
   "cell_type": "code",
   "execution_count": null,
   "metadata": {},
   "outputs": [],
   "source": [
    "fig2 = go.Figure()\n",
    "\n",
    "arr1 = [a for a in engagement]\n",
    "arr2 = [set(engagement[a]) for a in arr1]\n",
    "arr3 = []\n",
    "arr4 = []\n",
    "for i in range (len(arr2)-1) :\n",
    "    val1 = len(arr2[i+1]&arr2[i])\n",
    "    val2 = len(arr2[i+1]|arr2[i])\n",
    "    if (val2 == 0) :\n",
    "        print (arr1[i])\n",
    "        continue\n",
    "    arr4.append(arr1[i])\n",
    "    arr3.append(val1/val2)\n",
    "\n",
    "fig2.update_layout(title = 'Jaccard Similarity between 2 adjacent 6 month period', xaxis_title = 'Year', yaxis_title = 'Jaccard Similarity')\n",
    "\n"
   ]
  },
  {
   "cell_type": "code",
   "execution_count": null,
   "metadata": {},
   "outputs": [],
   "source": [
    "fig2.add_trace(go.Scatter(x = arr4,y = arr3,mode='markers'))"
   ]
  },
  {
   "cell_type": "markdown",
   "metadata": {},
   "source": [
    "# Top 10 Retweeters"
   ]
  },
  {
   "cell_type": "code",
   "execution_count": null,
   "metadata": {},
   "outputs": [],
   "source": [
    "dict_ = {}\n",
    "for a in engagement :\n",
    "    for b in engagement[a]:\n",
    "        if b not in dict_ :\n",
    "            dict_[b]=0\n",
    "        dict_[b]+=1\n",
    "print (dict_)"
   ]
  },
  {
   "cell_type": "code",
   "execution_count": null,
   "metadata": {},
   "outputs": [],
   "source": [
    "LIST = []\n",
    "for a in dict_.keys():\n",
    "    LIST.append((a,dict_[a]))\n",
    "LIST = sorted(LIST, key = lambda x: x[1], reverse=True)"
   ]
  },
  {
   "cell_type": "code",
   "execution_count": null,
   "metadata": {},
   "outputs": [],
   "source": [
    "\n",
    "for a in range(10):\n",
    "    print (*LIST[a])"
   ]
  },
  {
   "cell_type": "markdown",
   "metadata": {},
   "source": [
    "# Top retweeters in span of 6 months"
   ]
  },
  {
   "cell_type": "code",
   "execution_count": 20,
   "metadata": {},
   "outputs": [
    {
     "name": "stdout",
     "output_type": "stream",
     "text": [
      "{'2016-05-08': 'BigDataTweetBot', '2016-11-04': 'FinolHugo', '2017-10-30': 'OyeKuldeep', '2018-04-28': 'just_achetan', '2018-10-25': 'just_achetan', '2019-04-23': 'MANIKANTROY', '2019-10-20': 'partha_wish'}\n"
     ]
    }
   ],
   "source": [
    "dict = {}\n",
    "\n",
    "for key in engagement:\n",
    "    counter = {}\n",
    "    for user in engagement[key]:\n",
    "        if(user not in counter):\n",
    "            counter[user]=1\n",
    "        else:\n",
    "            counter[user]+=1\n",
    "            \n",
    "    max = 0\n",
    "    final_user = \"\"\n",
    "    for user in counter:\n",
    "        if(counter[user] > max):\n",
    "            max = counter[user]\n",
    "            final_user = user\n",
    "            dict[key] = user\n",
    "            \n",
    "print(dict)"
   ]
  },
  {
   "cell_type": "markdown",
   "metadata": {},
   "source": [
    "# Sample Tweets"
   ]
  },
  {
   "cell_type": "code",
   "execution_count": null,
   "metadata": {},
   "outputs": [],
   "source": [
    "for i in range (10) :\n",
    "    print (tweets[i].full_text)\n",
    "    print (tweets[i].created_at)\n",
    "    print()"
   ]
  },
  {
   "cell_type": "code",
   "execution_count": null,
   "metadata": {},
   "outputs": [],
   "source": []
  }
 ],
 "metadata": {
  "kernelspec": {
   "display_name": "Python 3",
   "language": "python",
   "name": "python3"
  },
  "language_info": {
   "codemirror_mode": {
    "name": "ipython",
    "version": 3
   },
   "file_extension": ".py",
   "mimetype": "text/x-python",
   "name": "python",
   "nbconvert_exporter": "python",
   "pygments_lexer": "ipython3",
   "version": "3.7.3"
  }
 },
 "nbformat": 4,
 "nbformat_minor": 2
}
