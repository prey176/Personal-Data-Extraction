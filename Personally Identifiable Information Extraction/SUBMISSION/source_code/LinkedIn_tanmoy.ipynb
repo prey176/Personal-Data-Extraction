{
 "cells": [
  {
   "cell_type": "markdown",
   "metadata": {},
   "source": [
    "# LinkedIn Authentication"
   ]
  },
  {
   "cell_type": "code",
   "execution_count": 1,
   "metadata": {},
   "outputs": [],
   "source": [
    "from linkedin_api import Linkedin"
   ]
  },
  {
   "cell_type": "code",
   "execution_count": 2,
   "metadata": {},
   "outputs": [],
   "source": [
    "email = 'jaugastia@gmail.com'\n",
    "password = 'psosm1234'"
   ]
  },
  {
   "cell_type": "code",
   "execution_count": 3,
   "metadata": {},
   "outputs": [],
   "source": [
    "# Authenticate using any Linkedin account credentials\n",
    "api = Linkedin(email,password)"
   ]
  },
  {
   "cell_type": "code",
   "execution_count": 4,
   "metadata": {},
   "outputs": [],
   "source": [
    "username = 'tanmoy-chakraborty-89553324'"
   ]
  },
  {
   "cell_type": "code",
   "execution_count": 5,
   "metadata": {},
   "outputs": [],
   "source": [
    "# Get a profile\n",
    "profile = api.get_profile(username)"
   ]
  },
  {
   "cell_type": "markdown",
   "metadata": {},
   "source": [
    "# Extract Experience"
   ]
  },
  {
   "cell_type": "code",
   "execution_count": 6,
   "metadata": {},
   "outputs": [
    {
     "name": "stdout",
     "output_type": "stream",
     "text": [
      "Company Name : Indraprastha Institute of Information Technology, Delhi\n",
      "Title : Assistant Professor\n",
      "TimePeriod : 2017\n",
      "Description : http://faculty.iiitd.ac.in/~tanmoy/\n",
      "\n",
      "Company Name : Max Planck Institute for Software Systems\n",
      "Title : DAAD Visiting Professor\n",
      "TimePeriod : 2018\n",
      "\n",
      "Company Name : University of Maryland College Park\n",
      "Title : Postdoctoral Fellow\n",
      "TimePeriod : 2016\n",
      "Description : I am a Postdoctoral Researcher, working with Prof. VS Subrahmanian at University of Maryland Institute for Advanced Computer Studies (UMIACS) College Park, MD 207. My current research interest focuses on Data mining for cyber security. \n",
      "\n",
      "Company Name : Indian Institute of Technology, Kharagpur\n",
      "Title : Doctoral Student\n",
      "TimePeriod : 2011\n",
      "\n"
     ]
    }
   ],
   "source": [
    "for a in profile['experience'] :\n",
    "    print ('Company Name :',a['companyName'])\n",
    "    print ('Title :',a['title'])\n",
    "    print ('TimePeriod :',str(a['timePeriod']['startDate']['year']))\n",
    "    try :\n",
    "        print ('Description :', a['description'])\n",
    "    except :\n",
    "            pass\n",
    "    print()"
   ]
  },
  {
   "cell_type": "markdown",
   "metadata": {},
   "source": [
    "# Extract Education"
   ]
  },
  {
   "cell_type": "code",
   "execution_count": 7,
   "metadata": {},
   "outputs": [
    {
     "name": "stdout",
     "output_type": "stream",
     "text": [
      "School Name : Jadavpur University\n",
      "Degree : Master of Engineering (M.Eng.)\n",
      "Feild of Study : Computer Science and Engineering\n",
      "Year : 2009\n",
      "\n",
      "School Name : Midnapur Collegiate School\n",
      "Degree : Class 5- Class 12\n",
      "Year : 1998\n",
      "\n"
     ]
    }
   ],
   "source": [
    "for a in profile['education'] :\n",
    "    print ('School Name :', a['schoolName'])\n",
    "    try :\n",
    "        print ('Degree :',a['degreeName'])\n",
    "    except :\n",
    "        pass\n",
    "    try :\n",
    "        print ('Feild of Study :',a['fieldOfStudy'])\n",
    "    except:\n",
    "        pass\n",
    "    try :\n",
    "        print ('Year :', a['timePeriod']['startDate']['year'])\n",
    "    except :\n",
    "        pass\n",
    "    print ()"
   ]
  }
 ],
 "metadata": {
  "kernelspec": {
   "display_name": "Python 3",
   "language": "python",
   "name": "python3"
  },
  "language_info": {
   "codemirror_mode": {
    "name": "ipython",
    "version": 3
   },
   "file_extension": ".py",
   "mimetype": "text/x-python",
   "name": "python",
   "nbconvert_exporter": "python",
   "pygments_lexer": "ipython3",
   "version": "3.7.3"
  }
 },
 "nbformat": 4,
 "nbformat_minor": 4
}
