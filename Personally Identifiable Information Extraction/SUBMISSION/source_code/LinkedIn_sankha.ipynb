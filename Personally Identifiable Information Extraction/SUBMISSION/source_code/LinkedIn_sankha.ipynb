{
 "cells": [
  {
   "cell_type": "markdown",
   "metadata": {},
   "source": [
    "# LinkedIn Authentication"
   ]
  },
  {
   "cell_type": "code",
   "execution_count": 2,
   "metadata": {},
   "outputs": [],
   "source": [
    "from linkedin_api import Linkedin"
   ]
  },
  {
   "cell_type": "code",
   "execution_count": 3,
   "metadata": {},
   "outputs": [],
   "source": [
    "email = 'jaugastia@gmail.com'\n",
    "password = 'psosm1234'"
   ]
  },
  {
   "cell_type": "code",
   "execution_count": 4,
   "metadata": {},
   "outputs": [],
   "source": [
    "# Authenticate using any Linkedin account credentials\n",
    "api = Linkedin(email,password)"
   ]
  },
  {
   "cell_type": "code",
   "execution_count": 5,
   "metadata": {},
   "outputs": [],
   "source": [
    "username = 'sankha-basu-157333aa'"
   ]
  },
  {
   "cell_type": "code",
   "execution_count": 6,
   "metadata": {},
   "outputs": [],
   "source": [
    "# Get a profile\n",
    "profile = api.get_profile(username)"
   ]
  },
  {
   "cell_type": "markdown",
   "metadata": {},
   "source": [
    "# Extract Experience"
   ]
  },
  {
   "cell_type": "code",
   "execution_count": 7,
   "metadata": {},
   "outputs": [
    {
     "name": "stdout",
     "output_type": "stream",
     "text": [
      "Company Name : Indraprastha Institute of Information Technology, Delhi\n",
      "Title : Assistant Professor\n",
      "TimePeriod : 2017\n",
      "\n",
      "Company Name : Middle Tennessee State University\n",
      "Title : Lecturer\n",
      "TimePeriod : 2016\n",
      "Description : Teaching undergraduate courses\n",
      "\n",
      "Company Name : University of Tennessee at Chattanooga\n",
      "Title : Visiting Assistant Professor\n",
      "TimePeriod : 2015\n",
      "Description : Teaching undergraduate courses, research, serving in departmental committees\n",
      "\n",
      "Company Name : Penn State University\n",
      "Title : Lecturer\n",
      "TimePeriod : 2013\n",
      "Description : Teaching undergraduate classes\n",
      "\n",
      "Company Name : Penn State University\n",
      "Title : Graduate Student\n",
      "TimePeriod : 2008\n",
      "Description : Research leading to a doctoral dissertation, Teaching undergraduate classes with full instructional responsibility\n",
      "\n"
     ]
    }
   ],
   "source": [
    "for a in profile['experience'] :\n",
    "    print ('Company Name :',a['companyName'])\n",
    "    print ('Title :',a['title'])\n",
    "    print ('TimePeriod :',str(a['timePeriod']['startDate']['year']))\n",
    "    try :\n",
    "        print ('Description :', a['description'])\n",
    "    except :\n",
    "            pass\n",
    "    print()"
   ]
  },
  {
   "cell_type": "markdown",
   "metadata": {},
   "source": [
    "# Extract Education"
   ]
  },
  {
   "cell_type": "code",
   "execution_count": 8,
   "metadata": {},
   "outputs": [
    {
     "name": "stdout",
     "output_type": "stream",
     "text": [
      "School Name : Penn State University\n",
      "Degree : Doctor of Philosophy (Ph.D.)\n",
      "Feild of Study : Mathematics\n",
      "Year : 2008\n",
      "\n",
      "School Name : Marquette University\n",
      "Degree : Master of Science (M.S.)\n",
      "Feild of Study : Mathematics\n",
      "Year : 2006\n",
      "\n"
     ]
    }
   ],
   "source": [
    "for a in profile['education'] :\n",
    "    print ('School Name :', a['schoolName'])\n",
    "    print ('Degree :',a['degreeName'])\n",
    "    print ('Feild of Study :',a['fieldOfStudy'])\n",
    "    try :\n",
    "        print ('Year :', a['timePeriod']['startDate']['year'])\n",
    "    except :\n",
    "        pass\n",
    "    print ()"
   ]
  },
  {
   "cell_type": "code",
   "execution_count": 9,
   "metadata": {},
   "outputs": [
    {
     "data": {
      "text/plain": [
       "{'summary': 'Job description: Teaching and research',\n",
       " 'industryName': 'Higher Education',\n",
       " 'lastName': 'Basu',\n",
       " 'locationName': 'New Delhi, Delhi, India',\n",
       " 'student': False,\n",
       " 'geoCountryName': 'India',\n",
       " 'geoCountryUrn': 'urn:li:fs_geo:102713980',\n",
       " 'geoLocationBackfilled': True,\n",
       " 'elt': False,\n",
       " 'industryUrn': 'urn:li:fs_industry:68',\n",
       " 'firstName': 'Sankha',\n",
       " 'entityUrn': 'urn:li:fs_profile:ACoAABcvjBMB7ooDiiA9fJpki_0INdRFJvF6JnE',\n",
       " 'geoLocation': {'geoUrn': 'urn:li:fs_geo:100611214'},\n",
       " 'geoLocationName': 'New Delhi, Delhi',\n",
       " 'location': {'preferredGeoPlace': 'urn:li:fs_city:(in,9-8)',\n",
       "  'basicLocation': {'countryCode': 'in'}},\n",
       " 'headline': 'Assistant Professor at Indraprastha Institute of Information Technology, Delhi (IIIT-Delhi)',\n",
       " 'profile_id': 'ACoAABcvjBMB7ooDiiA9fJpki_0INdRFJvF6JnE',\n",
       " 'experience': [{'locationName': 'New Delhi Area, India',\n",
       "   'entityUrn': 'urn:li:fs_position:(ACoAABcvjBMB7ooDiiA9fJpki_0INdRFJvF6JnE,1086493459)',\n",
       "   'geoLocationName': 'New Delhi Area, India',\n",
       "   'geoUrn': 'urn:li:fs_geo:90009626',\n",
       "   'companyName': 'Indraprastha Institute of Information Technology, Delhi',\n",
       "   'timePeriod': {'startDate': {'month': 9, 'year': 2017}},\n",
       "   'company': {'employeeCountRange': {'start': 51, 'end': 200},\n",
       "    'industries': ['Higher Education']},\n",
       "   'title': 'Assistant Professor',\n",
       "   'region': 'urn:li:fs_region:(in,7151)',\n",
       "   'companyUrn': 'urn:li:fs_miniCompany:362624',\n",
       "   'companyLogoUrl': 'https://media-exp1.licdn.com/dms/image/C560BAQG8G8yRaFuoBQ/company-logo_'},\n",
       "  {'locationName': 'Murfreesboro, TN',\n",
       "   'entityUrn': 'urn:li:fs_position:(ACoAABcvjBMB7ooDiiA9fJpki_0INdRFJvF6JnE,843611050)',\n",
       "   'geoLocationName': 'Murfreesboro, TN',\n",
       "   'companyName': 'Middle Tennessee State University',\n",
       "   'timePeriod': {'endDate': {'month': 12, 'year': 2016},\n",
       "    'startDate': {'month': 8, 'year': 2016}},\n",
       "   'description': 'Teaching undergraduate courses',\n",
       "   'company': {'employeeCountRange': {'start': 1001, 'end': 5000},\n",
       "    'industries': ['Higher Education']},\n",
       "   'title': 'Lecturer',\n",
       "   'companyUrn': 'urn:li:fs_miniCompany:13606',\n",
       "   'companyLogoUrl': 'https://media-exp1.licdn.com/dms/image/C4E0BAQG_rRqlnsPlIQ/company-logo_'},\n",
       "  {'entityUrn': 'urn:li:fs_position:(ACoAABcvjBMB7ooDiiA9fJpki_0INdRFJvF6JnE,766519524)',\n",
       "   'companyName': 'University of Tennessee at Chattanooga',\n",
       "   'timePeriod': {'endDate': {'month': 7, 'year': 2016},\n",
       "    'startDate': {'month': 8, 'year': 2015}},\n",
       "   'description': 'Teaching undergraduate courses, research, serving in departmental committees',\n",
       "   'company': {'employeeCountRange': {'start': 1001, 'end': 5000},\n",
       "    'industries': ['Higher Education']},\n",
       "   'title': 'Visiting Assistant Professor',\n",
       "   'companyUrn': 'urn:li:fs_miniCompany:27384',\n",
       "   'companyLogoUrl': 'https://media-exp1.licdn.com/dms/image/C4D0BAQH51UtyK2BPyQ/company-logo_'},\n",
       "  {'locationName': 'United States',\n",
       "   'entityUrn': 'urn:li:fs_position:(ACoAABcvjBMB7ooDiiA9fJpki_0INdRFJvF6JnE,613689679)',\n",
       "   'geoLocationName': 'United States',\n",
       "   'geoUrn': 'urn:li:fs_geo:103644278',\n",
       "   'companyName': 'Penn State University',\n",
       "   'timePeriod': {'endDate': {'month': 7, 'year': 2015},\n",
       "    'startDate': {'month': 8, 'year': 2013}},\n",
       "   'description': 'Teaching undergraduate classes',\n",
       "   'company': {'employeeCountRange': {'start': 10001},\n",
       "    'industries': ['Higher Education']},\n",
       "   'title': 'Lecturer',\n",
       "   'region': 'urn:li:fs_region:(us,0)',\n",
       "   'companyUrn': 'urn:li:fs_miniCompany:3657',\n",
       "   'companyLogoUrl': 'https://media-exp1.licdn.com/dms/image/C560BAQEFv0lqpE-gsQ/company-logo_'},\n",
       "  {'locationName': 'United States',\n",
       "   'entityUrn': 'urn:li:fs_position:(ACoAABcvjBMB7ooDiiA9fJpki_0INdRFJvF6JnE,614339190)',\n",
       "   'geoLocationName': 'United States',\n",
       "   'geoUrn': 'urn:li:fs_geo:103644278',\n",
       "   'companyName': 'Penn State University',\n",
       "   'timePeriod': {'endDate': {'month': 8, 'year': 2013},\n",
       "    'startDate': {'month': 8, 'year': 2008}},\n",
       "   'description': 'Research leading to a doctoral dissertation, Teaching undergraduate classes with full instructional responsibility',\n",
       "   'company': {'employeeCountRange': {'start': 10001},\n",
       "    'industries': ['Higher Education']},\n",
       "   'title': 'Graduate Student',\n",
       "   'region': 'urn:li:fs_region:(us,0)',\n",
       "   'companyUrn': 'urn:li:fs_miniCompany:3657',\n",
       "   'honors': ['urn:li:fs_honor:(ACoAABcvjBMB7ooDiiA9fJpki_0INdRFJvF6JnE,868015576)',\n",
       "    'urn:li:fs_honor:(ACoAABcvjBMB7ooDiiA9fJpki_0INdRFJvF6JnE,868055632)',\n",
       "    'urn:li:fs_honor:(ACoAABcvjBMB7ooDiiA9fJpki_0INdRFJvF6JnE,868095027)'],\n",
       "   'companyLogoUrl': 'https://media-exp1.licdn.com/dms/image/C560BAQEFv0lqpE-gsQ/company-logo_'}],\n",
       " 'skills': [{'name': 'Mathematics'},\n",
       "  {'name': 'Mathematical Logic'},\n",
       "  {'name': 'Foundations of Mathematics'},\n",
       "  {'name': 'Logic'},\n",
       "  {'name': 'LaTeX'},\n",
       "  {'name': 'Teaching'},\n",
       "  {'name': 'University Teaching'},\n",
       "  {'name': 'Undergraduate Teaching'},\n",
       "  {'name': 'Digital Photography'},\n",
       "  {'name': 'Photography'},\n",
       "  {'name': 'Research'},\n",
       "  {'name': 'Algorithms'}],\n",
       " 'education': [{'entityUrn': 'urn:li:fs_education:(ACoAABcvjBMB7ooDiiA9fJpki_0INdRFJvF6JnE,253831064)',\n",
       "   'school': {'active': True,\n",
       "    'objectUrn': 'urn:li:school:19318',\n",
       "    'schoolName': 'Penn State University',\n",
       "    'entityUrn': 'urn:li:fs_miniSchool:19318',\n",
       "    'trackingId': '1+GZzXuFQoiqVEEYJA52ag==',\n",
       "    'logoUrl': 'https://media-exp1.licdn.com/dms/image/C560BAQEFv0lqpE-gsQ/company-logo_'},\n",
       "   'timePeriod': {'endDate': {'year': 2013}, 'startDate': {'year': 2008}},\n",
       "   'description': 'Graduate student in mathematics - research, teaching',\n",
       "   'degreeName': 'Doctor of Philosophy (Ph.D.)',\n",
       "   'schoolName': 'Penn State University',\n",
       "   'fieldOfStudy': 'Mathematics',\n",
       "   'schoolUrn': 'urn:li:fs_miniSchool:19318'},\n",
       "  {'entityUrn': 'urn:li:fs_education:(ACoAABcvjBMB7ooDiiA9fJpki_0INdRFJvF6JnE,253829303)',\n",
       "   'school': {'active': True,\n",
       "    'objectUrn': 'urn:li:school:19675',\n",
       "    'schoolName': 'Marquette University',\n",
       "    'entityUrn': 'urn:li:fs_miniSchool:19675',\n",
       "    'trackingId': 'f98wSYlXRJ2+eQbZYC0zug==',\n",
       "    'logoUrl': 'https://media-exp1.licdn.com/dms/image/C4E0BAQGJBUn0htYTVQ/company-logo_'},\n",
       "   'timePeriod': {'endDate': {'year': 2008}, 'startDate': {'year': 2006}},\n",
       "   'description': 'Graduate student',\n",
       "   'degreeName': 'Master of Science (M.S.)',\n",
       "   'schoolName': 'Marquette University',\n",
       "   'fieldOfStudy': 'Mathematics',\n",
       "   'schoolUrn': 'urn:li:fs_miniSchool:19675'}]}"
      ]
     },
     "execution_count": 9,
     "metadata": {},
     "output_type": "execute_result"
    }
   ],
   "source": [
    "profile"
   ]
  }
 ],
 "metadata": {
  "kernelspec": {
   "display_name": "Python 3",
   "language": "python",
   "name": "python3"
  },
  "language_info": {
   "codemirror_mode": {
    "name": "ipython",
    "version": 3
   },
   "file_extension": ".py",
   "mimetype": "text/x-python",
   "name": "python",
   "nbconvert_exporter": "python",
   "pygments_lexer": "ipython3",
   "version": "3.7.3"
  }
 },
 "nbformat": 4,
 "nbformat_minor": 4
}
